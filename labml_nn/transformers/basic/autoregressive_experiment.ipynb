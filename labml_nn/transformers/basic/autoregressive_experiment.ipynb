{
  "cells": [
    {
      "cell_type": "markdown",
      "metadata": {
        "id": "AYV_dMVDxyc2",
        "pycharm": {
          "name": "#%% md\n"
        }
      },
      "source": [
        "[![Github](https://img.shields.io/github/stars/labmlai/annotated_deep_learning_paper_implementations?style=social)](https://github.com/labmlai/annotated_deep_learning_paper_implementations)\n",
        "[![Open In Colab](https://colab.research.google.com/assets/colab-badge.svg)](https://colab.research.google.com/github/labmlai/annotated_deep_learning_paper_implementations/blob/master/labml_nn/transformers/basic/autoregressive_experiment.ipynb)\n",
        "\n",
        "## Transformer Experiment\n",
        "\n",
        "This trains a simple transformer with\n",
        "[multi headed attention](https://nn.labml.ai/transformers/mha.html)\n",
        "introduced in [Attention Is All You Need](https://arxiv.org/abs/1706.03762)\n",
        "on an NLP auto-regression task (with Tiny Shakespeare dataset)."
      ]
    },
    {
      "cell_type": "markdown",
      "metadata": {
        "id": "AahG_i2y5tY9",
        "pycharm": {
          "name": "#%% md\n"
        }
      },
      "source": [
        "### Install the packages"
      ]
    },
    {
      "cell_type": "code",
      "metadata": {
        "colab": {
          "base_uri": "https://localhost:8080/"
        },
        "id": "ZCzmCrAIVg0L",
        "outputId": "a7caad52-19ab-45c3-f1b5-b0d608c1e394",
        "pycharm": {
          "name": "#%%\n"
        }
      },
      "source": [
        "!pip install labml-nn --quiet"
      ],
      "outputs": [
        {
          "output_type": "stream",
          "name": "stdout",
          "text": [
            "\u001b[?25l     \u001b[90m━━━━━━━━━━━━━━━━━━━━━━━━━━━━━━━━━━━━━━━━\u001b[0m \u001b[32m0.0/266.3 kB\u001b[0m \u001b[31m?\u001b[0m eta \u001b[36m-:--:--\u001b[0m\r\u001b[2K     \u001b[90m━━━━━━━━━━━━━━━━━━━━━━━━━━━━━━━━━━━━━━━━\u001b[0m \u001b[32m266.3/266.3 kB\u001b[0m \u001b[31m9.1 MB/s\u001b[0m eta \u001b[36m0:00:00\u001b[0m\n",
            "\u001b[?25h  Installing build dependencies ... \u001b[?25l\u001b[?25hdone\n",
            "  Getting requirements to build wheel ... \u001b[?25l\u001b[?25hdone\n",
            "  Installing backend dependencies ... \u001b[?25l\u001b[?25hdone\n",
            "  Preparing metadata (pyproject.toml) ... \u001b[?25l\u001b[?25hdone\n",
            "\u001b[2K   \u001b[90m━━━━━━━━━━━━━━━━━━━━━━━━━━━━━━━━━━━━━━━━\u001b[0m \u001b[32m443.9/443.9 kB\u001b[0m \u001b[31m24.5 MB/s\u001b[0m eta \u001b[36m0:00:00\u001b[0m\n",
            "\u001b[2K   \u001b[90m━━━━━━━━━━━━━━━━━━━━━━━━━━━━━━━━━━━━━━━━\u001b[0m \u001b[32m131.0/131.0 kB\u001b[0m \u001b[31m13.3 MB/s\u001b[0m eta \u001b[36m0:00:00\u001b[0m\n",
            "\u001b[2K   \u001b[90m━━━━━━━━━━━━━━━━━━━━━━━━━━━━━━━━━━━━━━━━\u001b[0m \u001b[32m2.0/2.0 MB\u001b[0m \u001b[31m64.2 MB/s\u001b[0m eta \u001b[36m0:00:00\u001b[0m\n",
            "\u001b[?25h  Building wheel for fairscale (pyproject.toml) ... \u001b[?25l\u001b[?25hdone\n"
          ]
        }
      ],
      "execution_count": 1
    },
    {
      "cell_type": "markdown",
      "metadata": {
        "id": "SE2VUQ6L5zxI",
        "pycharm": {
          "name": "#%% md\n"
        }
      },
      "source": [
        "### Imports"
      ]
    },
    {
      "cell_type": "code",
      "metadata": {
        "id": "0hJXx_g0wS2C",
        "pycharm": {
          "name": "#%%\n"
        }
      },
      "source": [
        "import torch\n",
        "import torch.nn as nn\n",
        "\n",
        "from labml import experiment\n",
        "from labml.configs import option\n",
        "from labml_nn.transformers.basic.autoregressive_experiment import Configs"
      ],
      "outputs": [],
      "execution_count": 2
    },
    {
      "cell_type": "markdown",
      "metadata": {
        "id": "Lpggo0wM6qb-",
        "pycharm": {
          "name": "#%% md\n"
        }
      },
      "source": [
        "### Create an experiment"
      ]
    },
    {
      "cell_type": "code",
      "metadata": {
        "id": "bFcr9k-l4cAg",
        "pycharm": {
          "name": "#%%\n"
        }
      },
      "source": [
        "experiment.create(name=\"transformer\", writers={'screen'})"
      ],
      "outputs": [],
      "execution_count": 3
    },
    {
      "cell_type": "markdown",
      "metadata": {
        "id": "-OnHLi626tJt",
        "pycharm": {
          "name": "#%% md\n"
        }
      },
      "source": [
        "### Configurations"
      ]
    },
    {
      "cell_type": "code",
      "metadata": {
        "id": "Piz0c5f44hRo",
        "pycharm": {
          "name": "#%%\n"
        }
      },
      "source": [
        "conf = Configs()"
      ],
      "outputs": [],
      "execution_count": 4
    },
    {
      "cell_type": "markdown",
      "metadata": {
        "id": "wwMzCqpD6vkL",
        "pycharm": {
          "name": "#%% md\n"
        }
      },
      "source": [
        "Set experiment configurations and assign a configurations dictionary to override configurations"
      ]
    },
    {
      "cell_type": "code",
      "metadata": {
        "colab": {
          "base_uri": "https://localhost:8080/",
          "height": 34
        },
        "id": "e6hmQhTw4nks",
        "outputId": "c5a47cce-b6f5-4c11-a895-eab2a3ca20e6",
        "pycharm": {
          "name": "#%%\n"
        }
      },
      "source": [
        "experiment.configs(conf, {\n",
        "    # Use character level tokenizer\n",
        "    'tokenizer': 'character',\n",
        "    # Prompt separator is blank\n",
        "    'prompt_separator': '',\n",
        "    # Starting prompt for sampling\n",
        "    'prompt': 'It is ',\n",
        "    # Use Tiny Shakespeare dataset\n",
        "    'text': 'tiny_shakespeare',\n",
        "\n",
        "    # Use a context size of $256$\n",
        "    'seq_len': 512,\n",
        "    # Train for 32 epochs\n",
        "    'epochs': 32,\n",
        "    # Batch size $32$\n",
        "    'batch_size': 16,\n",
        "    # Switch between training and validation for $10$ times\n",
        "    # per epoch\n",
        "    'inner_iterations': 10,\n",
        "\n",
        "    # Model size\n",
        "    'd_model': 256,\n",
        "    'transformer.n_heads': 16,\n",
        "    'transformer.ffn.d_ff': 1024,\n",
        "\n",
        "    # Use [Noam optimizer](../../optimizers/noam.html)\n",
        "    'optimizer.optimizer': 'Noam',\n",
        "    'optimizer.learning_rate': 1.,\n",
        "})"
      ],
      "outputs": [
        {
          "output_type": "display_data",
          "data": {
            "text/plain": [
              "<IPython.core.display.HTML object>"
            ],
            "text/html": [
              "<pre style=\"overflow-x: scroll;\"></pre>"
            ]
          },
          "metadata": {}
        }
      ],
      "execution_count": 5
    },
    {
      "cell_type": "markdown",
      "metadata": {
        "id": "EvI7MtgJ61w5",
        "pycharm": {
          "name": "#%% md\n"
        }
      },
      "source": [
        "Set PyTorch models for loading and saving"
      ]
    },
    {
      "cell_type": "code",
      "metadata": {
        "colab": {
          "base_uri": "https://localhost:8080/",
          "height": 502
        },
        "id": "GDlt7dp-5ALt",
        "outputId": "da1712af-653a-4262-ce18-940c61db6e9a",
        "pycharm": {
          "name": "#%%\n"
        }
      },
      "source": [
        "experiment.add_pytorch_models({'model': conf.model})"
      ],
      "outputs": [
        {
          "output_type": "display_data",
          "data": {
            "text/plain": [
              "<IPython.core.display.HTML object>"
            ],
            "text/html": [
              "<pre style=\"overflow-x: scroll;\">Prepare model...\n",
              "  Prepare transformer...\n",
              "    Prepare n_tokens...\n",
              "      Prepare text...\n",
              "        Prepare tokenizer<span style=\"color: #00A250\">...[DONE]</span><span style=\"color: #208FFB\">\t3.64ms</span>\n",
              "        Download<span style=\"color: #00A250\">...[DONE]</span><span style=\"color: #208FFB\">\t236.03ms</span>\n",
              "        Load data<span style=\"color: #00A250\">...[DONE]</span><span style=\"color: #208FFB\">\t3.97ms</span>\n",
              "        Tokenize<span style=\"color: #00A250\">...[DONE]</span><span style=\"color: #208FFB\">\t50.48ms</span>\n",
              "        Build vocabulary<span style=\"color: #00A250\">...[DONE]</span><span style=\"color: #208FFB\">\t27.66ms</span>\n",
              "      Prepare text<span style=\"color: #00A250\">...[DONE]</span><span style=\"color: #208FFB\">\t340.27ms</span>\n",
              "    Prepare n_tokens<span style=\"color: #00A250\">...[DONE]</span><span style=\"color: #208FFB\">\t346.27ms</span>\n",
              "  Prepare transformer<span style=\"color: #00A250\">...[DONE]</span><span style=\"color: #208FFB\">\t354.96ms</span>\n",
              "  Prepare transformer.encoder...\n",
              "    Prepare transformer.encoder_layer...\n",
              "      Prepare transformer.encoder_attn<span style=\"color: #00A250\">...[DONE]</span><span style=\"color: #208FFB\">\t36.10ms</span>\n",
              "      Prepare transformer.ffn<span style=\"color: #00A250\">...[DONE]</span><span style=\"color: #208FFB\">\t1.84ms</span>\n",
              "      Prepare transformer.ffn.ffn...\n",
              "        Prepare transformer.ffn.activation<span style=\"color: #00A250\">...[DONE]</span><span style=\"color: #208FFB\">\t4.08ms</span>\n",
              "      Prepare transformer.ffn.ffn<span style=\"color: #00A250\">...[DONE]</span><span style=\"color: #208FFB\">\t16.56ms</span>\n",
              "    Prepare transformer.encoder_layer<span style=\"color: #00A250\">...[DONE]</span><span style=\"color: #208FFB\">\t89.28ms</span>\n",
              "  Prepare transformer.encoder<span style=\"color: #00A250\">...[DONE]</span><span style=\"color: #208FFB\">\t116.87ms</span>\n",
              "  Prepare transformer.src_embed<span style=\"color: #00A250\">...[DONE]</span><span style=\"color: #208FFB\">\t75.38ms</span>\n",
              "  Prepare transformer.generator<span style=\"color: #00A250\">...[DONE]</span><span style=\"color: #208FFB\">\t3.85ms</span>\n",
              "  Prepare device.device...\n",
              "    Prepare device.device_info<span style=\"color: #00A250\">...[DONE]</span><span style=\"color: #208FFB\">\t68.86ms</span>\n",
              "  Prepare device.device<span style=\"color: #00A250\">...[DONE]</span><span style=\"color: #208FFB\">\t72.62ms</span>\n",
              "Prepare model<span style=\"color: #00A250\">...[DONE]</span><span style=\"color: #208FFB\">\t812.89ms</span>\n",
              "</pre>"
            ]
          },
          "metadata": {}
        }
      ],
      "execution_count": 6
    },
    {
      "cell_type": "markdown",
      "metadata": {
        "id": "KJZRf8527GxL",
        "pycharm": {
          "name": "#%% md\n"
        }
      },
      "source": [
        "### Start the experiment and run the training loop."
      ]
    },
    {
      "cell_type": "code",
      "metadata": {
        "colab": {
          "base_uri": "https://localhost:8080/",
          "height": 537
        },
        "id": "aIAWo7Fw5DR8",
        "outputId": "4d95b8e8-090a-4f31-e605-07a6058bd706",
        "pycharm": {
          "name": "#%%\n"
        }
      },
      "source": [
        "# Start the experiment\n",
        "with experiment.start():\n",
        "    conf.run()"
      ],
      "outputs": [
        {
          "output_type": "display_data",
          "data": {
            "text/plain": [
              "<IPython.core.display.HTML object>"
            ],
            "text/html": [
              "<pre style=\"overflow-x: scroll;\">\n",
              "<strong><span style=\"text-decoration: underline\">transformer</span></strong>: <span style=\"color: #208FFB\">21f551d6caaf11efaec40242ac1c000c</span>\n",
              "[clean]: <strong><span style=\"color: #DDB62B\">\"\"</span></strong>\n",
              "<strong>~/labml/configs.yaml</strong> does not exist. Creating <span style=\"color: #208FFB\">/root/.labml/configs.yaml</span>\n",
              "Initialize...\n",
              "  Prepare mode<span style=\"color: #00A250\">...[DONE]</span><span style=\"color: #208FFB\">\t3.88ms</span>\n",
              "Initialize<span style=\"color: #00A250\">...[DONE]</span><span style=\"color: #208FFB\">\t92.19ms</span>\n",
              "Prepare validator...\n",
              "  Prepare valid_loader<span style=\"color: #00A250\">...[DONE]</span><span style=\"color: #208FFB\">\t144.69ms</span>\n",
              "Prepare validator<span style=\"color: #00A250\">...[DONE]</span><span style=\"color: #208FFB\">\t414.81ms</span>\n",
              "Prepare trainer...\n",
              "  Prepare train_loader<span style=\"color: #00A250\">...[DONE]</span><span style=\"color: #208FFB\">\t210.30ms</span>\n",
              "Prepare trainer<span style=\"color: #00A250\">...[DONE]</span><span style=\"color: #208FFB\">\t256.92ms</span>\n",
              "Prepare training_loop...\n",
              "  Prepare loop_count<span style=\"color: #00A250\">...[DONE]</span><span style=\"color: #208FFB\">\t46.10ms</span>\n",
              "Prepare training_loop<span style=\"color: #00A250\">...[DONE]</span><span style=\"color: #208FFB\">\t346.22ms</span>\n",
              "<span style=\"color: #C5C1B4\">It is </span><strong>V</strong><strong>F</strong><strong>F</strong><strong>F</strong><strong>F</strong><strong>F</strong><strong>F</strong><strong>F</strong><strong>F</strong><strong>F</strong><strong>F</strong><strong>F</strong><strong>F</strong><strong>F</strong><strong>F</strong><strong>F</strong><strong>F</strong><strong>F</strong><strong>F</strong><strong>F</strong><strong>F</strong><strong>F</strong><strong>F</strong><strong>F</strong><strong>F</strong>\n",
              "<strong><span style=\"color: #DDB62B\">       0:  </span></strong>Sample:<span style=\"color: #C5C1B4\"> 100%</span><span style=\"color: #208FFB\">    790ms  </span>Train:<span style=\"color: #C5C1B4\">  ...</span><span style=\"color: #208FFB\">  0ms  </span>  <span style=\"color: #208FFB\">790ms</span><span style=\"color: #D160C4\">  0:00m/  0:00m  </span>\n",
              "Prepare optimizer<span style=\"color: #00A250\">...[DONE]</span><span style=\"color: #208FFB\">\t4.29ms</span>\n",
              "Prepare optimizer.optimizer...\n",
              "  Prepare optimizer.weight_decay_obj<span style=\"color: #00A250\">...[DONE]</span><span style=\"color: #208FFB\">\t3.89ms</span>\n",
              "Prepare optimizer.optimizer<span style=\"color: #00A250\">...[DONE]</span><span style=\"color: #208FFB\">\t4,058.54ms</span>\n",
              "<span style=\"color: #C5C1B4\">It is </span><strong>V</strong><strong>F</strong><strong>F</strong><strong>F</strong><strong>F</strong><strong>F</strong><strong>F</strong><strong>F</strong><strong>F</strong><strong>F</strong><strong>F</strong><strong>F</strong><strong>F</strong><strong>F</strong><strong>F</strong><strong>F</strong><strong>F</strong><strong>F</strong><strong>F</strong><strong>F</strong><strong>F</strong><strong>F</strong><strong>F</strong><strong>F</strong><strong>F</strong>\n",
              "<span style=\"color: #C5C1B4\">It is </span><strong>V</strong><strong>F</strong><strong>F</strong><strong>F</strong><strong>F</strong><strong>F</strong><strong>F</strong><strong>F</strong><strong>F</strong><strong>F</strong><strong>F</strong><strong>F</strong><strong>F</strong><strong>F</strong><strong>F</strong><strong>F</strong><strong>F</strong><strong>F</strong><strong>F</strong><strong>F</strong><strong>F</strong><strong>F</strong><strong>F</strong><strong>F</strong><strong>F</strong>\n",
              "<span style=\"color: #C5C1B4\">It is </span><strong>V</strong><strong>F</strong><strong>F</strong><strong>F</strong><strong>F</strong><strong>F</strong><strong>F</strong><strong>F</strong><strong>F</strong><strong>F</strong><strong>F</strong><strong>F</strong><strong>F</strong><strong>F</strong><strong>F</strong><strong>F</strong><strong>F</strong><strong>F</strong><strong>F</strong><strong>F</strong><strong>F</strong><strong>F</strong><strong>F</strong><strong>F</strong><strong>F</strong>\n",
              "<span style=\"color: #C5C1B4\">It is </span><strong>y</strong><strong>P</strong><strong>.</strong><strong>m</strong><strong> </strong><strong>y</strong><strong>P</strong><strong>.</strong><strong>m</strong><strong> </strong><strong>y</strong><strong>P</strong><strong>.</strong><strong>m</strong><strong> </strong><strong>V</strong><strong>F</strong><strong>F</strong><strong>F</strong><strong>F</strong><strong>F</strong><strong>F</strong><strong>F</strong><strong>F</strong><strong>F</strong>\n",
              "<span style=\"color: #C5C1B4\">It is </span><strong>y</strong><strong>o</strong><strong> </strong><strong>y</strong><strong>o</strong><strong> </strong><strong>y</strong><strong>o</strong><strong> </strong><strong>y</strong><strong>o</strong><strong> </strong><strong>y</strong><strong>o</strong><strong> </strong><strong>y</strong><strong>o</strong><strong> </strong><strong>y</strong><strong>o</strong><strong> </strong><strong>y</strong><strong>o</strong><strong> </strong><strong>y</strong>\n",
              "<span style=\"color: #C5C1B4\">It is </span><strong>y</strong><strong> </strong><strong>y</strong><strong>o</strong><strong> </strong><strong>y</strong><strong>o</strong><strong> </strong><strong>o</strong><strong> </strong><strong>o</strong><strong> </strong><strong>o</strong><strong> </strong><strong>o</strong><strong> </strong><strong>o</strong><strong> </strong><strong>o</strong><strong> </strong><strong>y</strong><strong> </strong><strong>y</strong><strong> </strong><strong>o</strong>\n",
              "<span style=\"color: #C5C1B4\">It is </span><strong>t</strong><strong> </strong><strong>t</strong><strong> </strong><strong>t</strong><strong> </strong><strong>t</strong><strong> </strong><strong>t</strong><strong> </strong><strong>t</strong><strong> </strong><strong>t</strong><strong> </strong><strong>t</strong><strong> </strong><strong>t</strong><strong> </strong><strong>t</strong><strong> </strong><strong>t</strong><strong> </strong><strong>t</strong><strong> </strong><strong>t</strong>\n",
              "<strong><span style=\"color: #DDB62B\"> 712,704:  </span></strong>Sample:<span style=\"color: #C5C1B4\"> 100%</span><span style=\"color: #208FFB\">    299ms  </span>Train:<span style=\"color: #C5C1B4\">  70%</span><span style=\"color: #208FFB\"> 158,188ms  </span>Valid:<span style=\"color: #C5C1B4\">  64%</span><span style=\"color: #208FFB\"> 4,950ms  </span> loss.train: <strong> 3.48427</strong> accuracy.train: <strong>0.063512</strong> loss.valid: <span style=\"color: #C5C1B4\"> 3.48700</span> accuracy.valid: <span style=\"color: #C5C1B4\">0.070652</span>  <span style=\"color: #208FFB\">163,437ms</span><span style=\"color: #D160C4\">  0:02m/  1:25m  </span></pre>"
            ]
          },
          "metadata": {}
        }
      ],
      "execution_count": null
    },
    {
      "cell_type": "code",
      "metadata": {
        "id": "oBXXlP2b7XZO",
        "pycharm": {
          "name": "#%%\n"
        }
      },
      "source": [],
      "outputs": [],
      "execution_count": null
    }
  ],
  "metadata": {
    "accelerator": "GPU",
    "colab": {
      "name": "Transformer",
      "provenance": []
    },
    "kernelspec": {
      "display_name": "Python 3 (ipykernel)",
      "language": "python",
      "name": "python3"
    },
    "language_info": {
      "codemirror_mode": {
        "name": "ipython",
        "version": 3
      },
      "file_extension": ".py",
      "mimetype": "text/x-python",
      "name": "python",
      "nbconvert_exporter": "python",
      "pygments_lexer": "ipython3",
      "version": "3.7.11"
    }
  },
  "nbformat": 4,
  "nbformat_minor": 0
}